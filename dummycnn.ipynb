{
 "cells": [
  {
   "cell_type": "code",
   "execution_count": 2,
   "id": "dbeb16c9",
   "metadata": {},
   "outputs": [],
   "source": [
    "import numpy as np"
   ]
  },
  {
   "cell_type": "code",
   "execution_count": null,
   "id": "4fd866d7",
   "metadata": {},
   "outputs": [
    {
     "data": {
      "text/plain": [
       "(7, 7)"
      ]
     },
     "execution_count": 3,
     "metadata": {},
     "output_type": "execute_result"
    }
   ],
   "source": [
    "x = np.array([[1, 2, 3, 4, 5, 6, 7],\n",
    "              [2, 3, 4, 5, 6, 7, 1],\n",
    "              [3, 4, 5, 6, 7, 1, 2],\n",
    "              [4, 5, 6, 7, 1, 2, 3],\n",
    "              [5, 6, 7, 1, 2, 3, 4],\n",
    "              [6, 7, 1, 2, 3, 4, 5],\n",
    "              [7, 1, 2, 3, 4, 5, 6]])\n",
    "x.shape"
   ]
  },
  {
   "cell_type": "code",
   "execution_count": 4,
   "id": "34cfd5ba",
   "metadata": {},
   "outputs": [
    {
     "data": {
      "text/plain": [
       "(2, 2)"
      ]
     },
     "execution_count": 4,
     "metadata": {},
     "output_type": "execute_result"
    }
   ],
   "source": [
    "f = np.array([[1, 2],\n",
    "              [2, 3]])\n",
    "f.shape"
   ]
  },
  {
   "cell_type": "code",
   "execution_count": 5,
   "id": "e41eda7b",
   "metadata": {},
   "outputs": [
    {
     "name": "stdout",
     "output_type": "stream",
     "text": [
      "[[ 3.  8. 13. 18. 23. 28. 33.]\n",
      " [ 8. 18. 26. 34. 42. 50. 37.]\n",
      " [13. 26. 34. 42. 50. 37. 17.]\n",
      " [18. 34. 42. 50. 37. 17. 18.]\n",
      " [23. 42. 50. 37. 17. 18. 26.]\n",
      " [28. 50. 37. 17. 18. 26. 34.]\n",
      " [33. 37. 17. 18. 26. 34. 42.]]\n"
     ]
    }
   ],
   "source": [
    "stride = 1\n",
    "pad = 1\n",
    "image_h, image_w = x.shape[0], x.shape[1]\n",
    "filter_h, filter_w = f.shape[0], f.shape[1]\n",
    "\n",
    "X_train_padded = np.pad(x, ((1, 1), (1, 1)), mode = 'constant') # input padded\n",
    "\n",
    "image_h_out = (((image_h + pad) - filter_h) // stride) + 1 \n",
    "image_w_out = (((image_w + pad) - filter_w) // stride) + 1 \n",
    "\n",
    "out = np.zeros((image_h_out, image_w_out))\n",
    "\n",
    "for i in range(image_h_out):\n",
    "    for j in range(image_w_out): \n",
    "        h_start = i * stride # height starting index for filter traversal\n",
    "        h_end = h_start + filter_h # height ending index for filter traversal\n",
    "        w_start = j * stride # width starting index for filter traversal\n",
    "        w_end = w_start + filter_w # width ending index for filter traversal\n",
    "\n",
    "        out[i, j] = np.sum(X_train_padded[h_start:h_end, w_start:w_end] * f[:, :]) \n",
    "\n",
    "print(out)"
   ]
  },
  {
   "cell_type": "code",
   "execution_count": null,
   "id": "bc0b3469",
   "metadata": {},
   "outputs": [
    {
     "name": "stdout",
     "output_type": "stream",
     "text": [
      "[[18. 34. 50.]\n",
      " [34. 50. 50.]\n",
      " [50. 50. 26.]]\n"
     ]
    }
   ],
   "source": [
    "pool_h, pool_w = 2, 2 # height and width of pool region\n",
    "stride = 2\n",
    "\n",
    "image_h, image_w = x.shape[0], x.shape[1]\n",
    "\n",
    "pool_h_out = (((image_h) - pool_h) // stride) + 1 \n",
    "pool_w_out = (((image_w) - pool_w) // stride) + 1 \n",
    "\n",
    "pooled_out = np.zeros((pool_h_out, pool_w_out))\n",
    "\n",
    "for i in range(pool_h_out):\n",
    "    for j in range(pool_w_out):\n",
    "        pool_h_start = i * stride\n",
    "        pool_h_end = pool_h_start + pool_h\n",
    "        pool_w_start = j * stride\n",
    "        pool_w_end = pool_w_start + pool_w\n",
    "\n",
    "        pool_region = out[pool_h_start:pool_h_end, pool_w_start:pool_w_end] \n",
    "        pooled_out[i, j] = np.max(pool_region)\n",
    "\n",
    "print(pooled_out)"
   ]
  },
  {
   "cell_type": "code",
   "execution_count": 11,
   "id": "545d5057",
   "metadata": {},
   "outputs": [
    {
     "name": "stdout",
     "output_type": "stream",
     "text": [
      "[[18. 34. 50. 34. 50. 50. 50. 50. 26.]]\n"
     ]
    }
   ],
   "source": [
    "flat = pooled_out.reshape(1, -1)\n",
    "print(flat)"
   ]
  },
  {
   "cell_type": "code",
   "execution_count": 19,
   "id": "7becb7d8",
   "metadata": {},
   "outputs": [
    {
     "name": "stdout",
     "output_type": "stream",
     "text": [
      "[[-1.8844459  -0.52764485  0.8291562  -0.52764485  0.8291562   0.8291562\n",
      "   0.8291562   0.8291562  -1.20604538]]\n"
     ]
    }
   ],
   "source": [
    "flat_norm = (flat - flat.mean()) / flat.std()\n",
    "print(flat_norm)"
   ]
  },
  {
   "cell_type": "code",
   "execution_count": 20,
   "id": "fa015f83",
   "metadata": {},
   "outputs": [
    {
     "name": "stdout",
     "output_type": "stream",
     "text": [
      "[[0.13187904 0.37106636 0.69617648 0.37106636 0.69617648 0.69617648\n",
      "  0.69617648 0.69617648 0.23040152]]\n"
     ]
    }
   ],
   "source": [
    "flat_sigmoid = 1 / (1 + np.exp(-flat_norm))\n",
    "print(flat_sigmoid)"
   ]
  },
  {
   "cell_type": "code",
   "execution_count": 22,
   "id": "37d1aebd",
   "metadata": {},
   "outputs": [],
   "source": [
    "input_features = flat_sigmoid.shape[1] \n",
    "neurons_layer1 = 10\n",
    "neurons_layer2 = 1\n",
    "\n",
    "w1 = np.random.randn(input_features, neurons_layer1)\n",
    "w2 = np.random.randn(neurons_layer1, neurons_layer2)\n",
    "b1 = np.random.randn(neurons_layer1)\n",
    "b2 = np.random.randn(neurons_layer2)\n",
    "\n",
    "hidden_out = np.dot(flat_sigmoid, w1) + b1 \n",
    "affine_out = np.dot(hidden_out, w2) + b2 "
   ]
  },
  {
   "cell_type": "code",
   "execution_count": 27,
   "id": "90e89b47",
   "metadata": {},
   "outputs": [
    {
     "name": "stdout",
     "output_type": "stream",
     "text": [
      "[[0.38100684]]\n"
     ]
    }
   ],
   "source": [
    "y_pred = 1.0 / (1.0 + np.exp(-affine_out))\n",
    "print(y_pred)"
   ]
  },
  {
   "cell_type": "code",
   "execution_count": 28,
   "id": "994a52bc",
   "metadata": {},
   "outputs": [
    {
     "name": "stdout",
     "output_type": "stream",
     "text": [
      "0.19157626437517797\n"
     ]
    }
   ],
   "source": [
    "loss = np.sum(np.power((1 - y_pred), 2) / 2) / 1\n",
    "print(loss)"
   ]
  }
 ],
 "metadata": {
  "kernelspec": {
   "display_name": "py310",
   "language": "python",
   "name": "python3"
  },
  "language_info": {
   "codemirror_mode": {
    "name": "ipython",
    "version": 3
   },
   "file_extension": ".py",
   "mimetype": "text/x-python",
   "name": "python",
   "nbconvert_exporter": "python",
   "pygments_lexer": "ipython3",
   "version": "3.10.15"
  }
 },
 "nbformat": 4,
 "nbformat_minor": 5
}
