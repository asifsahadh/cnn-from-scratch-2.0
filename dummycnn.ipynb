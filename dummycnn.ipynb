{
 "cells": [
  {
   "cell_type": "code",
   "execution_count": 1,
   "id": "dbeb16c9",
   "metadata": {},
   "outputs": [],
   "source": [
    "import numpy as np"
   ]
  },
  {
   "cell_type": "code",
   "execution_count": 8,
   "id": "4fd866d7",
   "metadata": {},
   "outputs": [
    {
     "data": {
      "text/plain": [
       "(7, 7)"
      ]
     },
     "execution_count": 8,
     "metadata": {},
     "output_type": "execute_result"
    }
   ],
   "source": [
    "x = np.array([[1, 2, 3, 4, 5, 6, 7],\n",
    "              [2, 3, 4, 5, 6, 7, 1],\n",
    "              [3, 4, 5, 6, 7, 1, 2],\n",
    "              [4, 5, 6, 7, 1, 2, 3],\n",
    "              [5, 6, 7, 1, 2, 3, 4],\n",
    "              [6, 7, 1, 2, 3, 4, 5],\n",
    "              [7, 1, 2, 3, 4, 5, 6]])\n",
    "x.shape"
   ]
  },
  {
   "cell_type": "code",
   "execution_count": 6,
   "id": "34cfd5ba",
   "metadata": {},
   "outputs": [
    {
     "data": {
      "text/plain": [
       "(2, 2)"
      ]
     },
     "execution_count": 6,
     "metadata": {},
     "output_type": "execute_result"
    }
   ],
   "source": [
    "f = np.array([[1, 2],\n",
    "              [2, 3]])\n",
    "f.shape"
   ]
  },
  {
   "cell_type": "code",
   "execution_count": 32,
   "id": "e41eda7b",
   "metadata": {},
   "outputs": [
    {
     "name": "stdout",
     "output_type": "stream",
     "text": [
      "[[ 3.  8. 13. 18. 23. 28. 33.]\n",
      " [ 8. 18. 26. 34. 42. 50. 37.]\n",
      " [13. 26. 34. 42. 50. 37. 17.]\n",
      " [18. 34. 42. 50. 37. 17. 18.]\n",
      " [23. 42. 50. 37. 17. 18. 26.]\n",
      " [28. 50. 37. 17. 18. 26. 34.]\n",
      " [33. 37. 17. 18. 26. 34. 42.]]\n"
     ]
    }
   ],
   "source": [
    "stride = 1\n",
    "pad = 1\n",
    "image_h, image_w = x.shape[0], x.shape[1]\n",
    "filter_h, filter_w = f.shape[0], f.shape[1]\n",
    "\n",
    "X_train_padded = np.pad(x, ((1, 1), (1, 1)), mode = 'constant') # input padded\n",
    "\n",
    "image_h_out = (((image_h + pad) - filter_h) // stride) + 1 \n",
    "image_w_out = (((image_w + pad) - filter_w) // stride) + 1 \n",
    "\n",
    "out = np.zeros((image_h_out, image_w_out))\n",
    "\n",
    "for i in range(image_h_out):\n",
    "    for j in range(image_w_out): \n",
    "        h_start = i * stride # height starting index for filter traversal\n",
    "        h_end = h_start + filter_h # height ending index for filter traversal\n",
    "        w_start = j * stride # width starting index for filter traversal\n",
    "        w_end = w_start + filter_w # width ending index for filter traversal\n",
    "\n",
    "        out[i, j] = np.sum(X_train_padded[h_start:h_end, w_start:w_end] * f[:, :]) \n",
    "\n",
    "print(out)"
   ]
  }
 ],
 "metadata": {
  "kernelspec": {
   "display_name": "py310",
   "language": "python",
   "name": "python3"
  },
  "language_info": {
   "codemirror_mode": {
    "name": "ipython",
    "version": 3
   },
   "file_extension": ".py",
   "mimetype": "text/x-python",
   "name": "python",
   "nbconvert_exporter": "python",
   "pygments_lexer": "ipython3",
   "version": "3.10.15"
  }
 },
 "nbformat": 4,
 "nbformat_minor": 5
}
